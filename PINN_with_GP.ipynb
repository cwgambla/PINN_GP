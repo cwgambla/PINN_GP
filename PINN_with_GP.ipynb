{
 "cells": [
  {
   "cell_type": "code",
   "execution_count": 8,
   "id": "5ed5b982-8c24-4e7d-82a6-40d126faa105",
   "metadata": {},
   "outputs": [],
   "source": [
    "import numpy as np\n",
    "import matplotlib.pyplot as plt\n",
    "from sklearn.gaussian_process import GaussianProcessRegressor\n",
    "from sklearn.gaussian_process.kernels import RBF, ConstantKernel as C\n",
    "import torch\n",
    "import torch.nn as nn\n",
    "import torch.optim as optim"
   ]
  },
  {
   "cell_type": "code",
   "execution_count": 9,
   "id": "2e2ed6c4-6360-48f1-94cc-5b66d11d8d0c",
   "metadata": {},
   "outputs": [],
   "source": [
    "\n",
    "# Set device (use GPU if available)\n",
    "device = torch.device(\"cuda\" if torch.cuda.is_available() else \"cpu\")\n",
    "\n",
    "# Define the Berger Viscous Equation parameters\n",
    "c = 1.0    # Wave speed\n",
    "mu = 0.1   # Viscosity coefficient\n",
    "lam = 1.0  # Nonlinearity coefficient\n",
    "\n",
    "# Define the neural network\n",
    "class PINN(nn.Module):\n",
    "    def __init__(self, layers):\n",
    "        super(PINN, self).__init__()\n",
    "        self.net = nn.Sequential(*[\n",
    "            nn.Sequential(nn.Linear(layers[i], layers[i+1]), nn.Tanh())\n",
    "            for i in range(len(layers)-2)\n",
    "        ] + [nn.Linear(layers[-2], layers[-1])])\n",
    "\n",
    "    def forward(self, x, t):\n",
    "        inputs = torch.cat((x, t), dim=1)\n",
    "        return self.net(inputs)\n",
    "\n",
    "# Compute PDE residual using automatic differentiation\n",
    "def compute_pde_residual(model, x, t):\n",
    "    x = x.clone().detach().requires_grad_(True)\n",
    "    t = t.clone().detach().requires_grad_(True)\n",
    "\n",
    "    u = model(x, t)  # Predict u(x, t)\n",
    "    \n",
    "    u_t = torch.autograd.grad(u, t, torch.ones_like(u), create_graph=True, retain_graph=True)[0]\n",
    "    u_tt = torch.autograd.grad(u_t, t, torch.ones_like(u), create_graph=True, retain_graph=True)[0]\n",
    "    \n",
    "    u_x = torch.autograd.grad(u, x, torch.ones_like(u), create_graph=True, retain_graph=True)[0]\n",
    "    u_xx = torch.autograd.grad(u_x, x, torch.ones_like(u), create_graph=True, retain_graph=True)[0]\n",
    "\n",
    "    f = u_tt - c**2 * u_xx - mu * u_xx + lam * u * u_xx  # PDE residual\n",
    "    return f\n",
    "\n",
    "# Importance sampling: Generate collocation points based on residuals\n",
    "# def generate_collocation_points(model, N_f, L=1.0, T=1.0):\n",
    "#     x_f = torch.rand(N_f, 1, device=device, requires_grad=True) * L  # x in [0, L]\n",
    "#     t_f = torch.rand(N_f, 1, device=device, requires_grad=True) * T  # t in [0, T]\n",
    "    \n",
    "#     if model is not None:  # Perform importance sampling\n",
    "#         residuals = compute_pde_residual(model, x_f, t_f).detach()\n",
    "#         probabilities = residuals.abs() / torch.sum(residuals.abs())  # Normalize to form a probability distribution\n",
    "#         sampled_indices = torch.multinomial(probabilities.view(-1), N_f, replacement=True)\n",
    "#         x_f, t_f = x_f[sampled_indices], t_f[sampled_indices]\n",
    "    \n",
    "#     return x_f, t_f\n",
    "\n",
    "\n",
    "# # Training loop with dynamic importance sampling\n",
    "\n",
    "\n"
   ]
  },
  {
   "cell_type": "code",
   "execution_count": 10,
   "id": "9acc6c68-b24b-4315-aff1-58a870764289",
   "metadata": {},
   "outputs": [],
   "source": [
    "def fit_GP(x,t):\n",
    "    kernel = C(1.0) * RBF(length_scale=1.0)\n",
    "\n",
    "# Create the Gaussian Process Regressor\n",
    "    gp = GaussianProcessRegressor(kernel=kernel, n_restarts_optimizer=10)\n",
    "    x_0 = x.cpu().detach().numpy() \n",
    "    t_0 = t.cpu().detach().numpy()\n",
    "    gp.fit(x_0,t_0)\n",
    "    y_pred, sigma = gp.predict(x_0, return_std=True)\n",
    "    \n",
    "    most_uncertain_indices = np.argsort(-sigma)[:100]  # Sort in descending order and take top 100\n",
    "    most_uncertain_points = x_0[most_uncertain_indices]\n",
    "\n",
    "    most_uncertain_indices = torch.tensor(most_uncertain_points,device=device, requires_grad=True)\n",
    "    most_uncertain_points=torch.tensor(most_uncertain_points, device=device, requires_grad=True)\n",
    "    return most_uncertain_points,most_uncertain_indices\n",
    "    \n",
    "\n"
   ]
  },
  {
   "cell_type": "code",
   "execution_count": 11,
   "id": "63450f5c-f76f-4c03-bf8c-4778242fa25a",
   "metadata": {},
   "outputs": [],
   "source": [
    "def fit_GP(model,x,t):\n",
    "    # Evaluate residuals at collocation points\n",
    "    residuals = compute_pde_residual(model,x, t).cpu().detach().numpy()\n",
    "\n",
    "# Convert collocation points to NumPy for sklearn GP\n",
    "    collocation_np = np.hstack((x.cpu().detach().numpy(), t.cpu().detach().numpy()))\n",
    "\n",
    "# Define Gaussian Process kernel (constant term + RBF)\n",
    "    kernel = C(1.0, (1e-2, 1e2)) * RBF(length_scale=0.5, length_scale_bounds=(1e-2, 1e2))\n",
    "\n",
    "# Fit Gaussian Process to residuals\n",
    "    gp = GaussianProcessRegressor(kernel=kernel, alpha=1e-6, n_restarts_optimizer=5)\n",
    "    gp.fit(collocation_np, residuals)\n",
    "\n",
    "    print(\"GP Training Done!\")\n",
    "    return gp\n",
    "\n"
   ]
  },
  {
   "cell_type": "code",
   "execution_count": 12,
   "id": "ad8acf32-6dc0-47ee-b659-7aeb3d57b50c",
   "metadata": {},
   "outputs": [],
   "source": [
    "def gen_Hi_Points(model,x,t):\n",
    "    # Generate dense evaluation grid for GP\n",
    "    gp = fit_GP(model,x,t)\n",
    "    x_dense = np.linspace(-1, 1, 50).reshape(-1, 1)\n",
    "    t_dense = np.linspace(0, 1, 50).reshape(-1, 1)\n",
    "    X, T = np.meshgrid(x_dense, t_dense)\n",
    "    dense_points = np.hstack((X.reshape(-1, 1), T.reshape(-1, 1)))\n",
    "\n",
    "    # Predict residual variance using GP\n",
    "    residual_mean, residual_std = gp.predict(dense_points, return_std=True)\n",
    "\n",
    "    # Identify high-uncertainty regions\n",
    "    high_var_indices = np.argsort(residual_std)[-100:]  # Select top 10 uncertain points\n",
    "    new_points = torch.tensor(dense_points[high_var_indices], dtype=torch.float32)\n",
    "\n",
    "    # Split x and t for the new points\n",
    "    x_new = new_points[:, 0].reshape(-1, 1).to(device)\n",
    "\n",
    "    t_new = new_points[:, 1].reshape(-1, 1).to(device)\n",
    "\n",
    "\n",
    "    # Merge with existing collocation points\n",
    "    x_collocation = torch.cat([x.to(device), x_new]).to(device)\n",
    "    t_collocation = torch.cat([t.to(device), t_new]).to(device)\n",
    "\n",
    "\n",
    "    print(\"Updated Collocation Points with GP Guidance!\")\n",
    "    return x_collocation, t_collocation"
   ]
  },
  {
   "cell_type": "code",
   "execution_count": 13,
   "id": "a9cdf602-acce-482a-b6cb-4c1b9a7dbe61",
   "metadata": {},
   "outputs": [],
   "source": [
    "# Define loss function\n",
    "def loss_function(model, x_f, t_f, x_bc, t_bc, u_bc):\n",
    "    f_residual = compute_pde_residual(model, x_f, t_f)\n",
    "    loss_pde = torch.mean(f_residual**2)\n",
    "\n",
    "    u_pred_bc = model(x_bc, t_bc)\n",
    "    loss_bc = torch.mean((u_pred_bc - u_bc)**2)\n",
    "\n",
    "    return loss_pde + loss_bc\n",
    "    \n",
    "def train(model, optimizer, N_f, x_bc, t_bc, u_bc, epochs=5000, resample_every=500):\n",
    "    x_f, t_f = generate_collocation_points(model, N_f)\n",
    "    for epoch in range(epochs): \n",
    "        optimizer.zero_grad()\n",
    "        loss = loss_function(model, x_f, t_f, x_bc, t_bc, u_bc)\n",
    "        loss.backward()\n",
    "        optimizer.step()\n",
    "\n",
    "        if epoch % 500 == 0:\n",
    "            # x_f,t_f = fit_GP(x_f,t_f)\n",
    "            print(f\"Epoch {epoch}, Loss: {loss.item()}\")\n",
    "            x_uncertain, t_uncertain = gen_Hi_Points(model,x_f, t_f) \n",
    "            x_f = x_uncertain\n",
    "            t_f = t_uncertain"
   ]
  },
  {
   "cell_type": "code",
   "execution_count": 14,
   "id": "7e8201e0-0cb8-4305-bd26-dbf2ecc27e87",
   "metadata": {},
   "outputs": [
    {
     "ename": "NameError",
     "evalue": "name 'generate_collocation_points' is not defined",
     "output_type": "error",
     "traceback": [
      "\u001b[0;31m---------------------------------------------------------------------------\u001b[0m",
      "\u001b[0;31mNameError\u001b[0m                                 Traceback (most recent call last)",
      "Cell \u001b[0;32mIn[14], line 9\u001b[0m\n\u001b[1;32m      6\u001b[0m N_f \u001b[38;5;241m=\u001b[39m \u001b[38;5;241m1000\u001b[39m  \u001b[38;5;66;03m# Collocation points\u001b[39;00m\n\u001b[1;32m      7\u001b[0m L, T \u001b[38;5;241m=\u001b[39m \u001b[38;5;241m1.0\u001b[39m, \u001b[38;5;241m1.0\u001b[39m  \u001b[38;5;66;03m# Spatial and time limits\u001b[39;00m\n\u001b[0;32m----> 9\u001b[0m x_f, t_f \u001b[38;5;241m=\u001b[39m generate_collocation_points(\u001b[38;5;28;01mNone\u001b[39;00m, N_f, L, T)  \u001b[38;5;66;03m# Initial uniform sampling\u001b[39;00m\n\u001b[1;32m     11\u001b[0m \u001b[38;5;66;03m# Boundary conditions (u(x, 0) = sin(pi x), u(0, t) = 0, u(L, t) = 0)\u001b[39;00m\n\u001b[1;32m     12\u001b[0m N_bc \u001b[38;5;241m=\u001b[39m \u001b[38;5;241m100\u001b[39m\n",
      "\u001b[0;31mNameError\u001b[0m: name 'generate_collocation_points' is not defined"
     ]
    }
   ],
   "source": [
    "# Define PINN model architecture\n",
    "layers = [2, 50, 50, 50, 1]  # Input (x,t) -> Hidden layers -> Output (u)\n",
    "model = PINN(layers).to(device)\n",
    "\n",
    "# Define boundary and initial conditions\n",
    "N_f = 1000  # Collocation points\n",
    "L, T = 1.0, 1.0  # Spatial and time limits\n",
    "\n",
    "x_f, t_f = generate_collocation_points(None, N_f, L, T)  # Initial uniform sampling\n",
    "\n",
    "# Boundary conditions (u(x, 0) = sin(pi x), u(0, t) = 0, u(L, t) = 0)\n",
    "N_bc = 100\n",
    "x_bc = torch.linspace(0, L, N_bc).view(-1, 1).to(device)\n",
    "t_bc = torch.zeros_like(x_bc).to(device)\n",
    "u_bc = torch.sin(np.pi * x_bc.cpu()).to(device)  # Initial condition\n",
    "\n",
    "# Train the model with importance sampling\n",
    "optimizer = optim.Adam(model.parameters(), lr=1e-3)\n",
    "train(model, optimizer, N_f, x_bc, t_bc, u_bc, epochs=10000, resample_every=100)\n",
    "\n",
    "# Visualize results\n",
    "x_test = torch.linspace(0, L, 100).view(-1, 1).to(device)\n",
    "t_test = torch.linspace(0, T, 100).view(-1, 1).to(device)\n",
    "\n",
    "x_grid, t_grid = torch.meshgrid(x_test.squeeze(), t_test.squeeze(), indexing='ij')\n",
    "x_flat, t_flat = x_grid.flatten().view(-1, 1), t_grid.flatten().view(-1, 1)\n",
    "\n",
    "u_pred = model(x_flat, t_flat).detach().cpu().numpy().reshape(100, 100)"
   ]
  },
  {
   "cell_type": "code",
   "execution_count": 15,
   "id": "1b907c5c-d2b4-481f-a771-7cf1aa925e29",
   "metadata": {},
   "outputs": [
    {
     "ename": "NameError",
     "evalue": "name 'generate_collocation_points' is not defined",
     "output_type": "error",
     "traceback": [
      "\u001b[0;31m---------------------------------------------------------------------------\u001b[0m",
      "\u001b[0;31mNameError\u001b[0m                                 Traceback (most recent call last)",
      "Cell \u001b[0;32mIn[15], line 2\u001b[0m\n\u001b[1;32m      1\u001b[0m \u001b[38;5;66;03m#Loss on general function\u001b[39;00m\n\u001b[0;32m----> 2\u001b[0m x_f, t_f \u001b[38;5;241m=\u001b[39m generate_collocation_points(model, \u001b[38;5;241m1000\u001b[39m,L,T)\n\u001b[1;32m      3\u001b[0m x_bc \u001b[38;5;241m=\u001b[39m torch\u001b[38;5;241m.\u001b[39mlinspace(\u001b[38;5;241m0\u001b[39m, L, N_bc)\u001b[38;5;241m.\u001b[39mview(\u001b[38;5;241m-\u001b[39m\u001b[38;5;241m1\u001b[39m, \u001b[38;5;241m1\u001b[39m)\u001b[38;5;241m.\u001b[39mto(device)\n\u001b[1;32m      4\u001b[0m t_bc \u001b[38;5;241m=\u001b[39m torch\u001b[38;5;241m.\u001b[39mzeros_like(x_bc)\u001b[38;5;241m.\u001b[39mto(device)\n",
      "\u001b[0;31mNameError\u001b[0m: name 'generate_collocation_points' is not defined"
     ]
    }
   ],
   "source": [
    "#Loss on general function\n",
    "x_f, t_f = generate_collocation_points(model, 1000,L,T)\n",
    "x_bc = torch.linspace(0, L, N_bc).view(-1, 1).to(device)\n",
    "t_bc = torch.zeros_like(x_bc).to(device)\n",
    "u_bc = torch.sin(np.pi * x_bc.cpu()).to(device)\n",
    "\n",
    "loss_function(model, x_f, t_f, x_bc, t_bc, u_bc).item()"
   ]
  },
  {
   "cell_type": "code",
   "execution_count": 16,
   "id": "7830c0bd-854c-4f9b-8ee9-b6e96399ca2f",
   "metadata": {},
   "outputs": [
    {
     "name": "stderr",
     "output_type": "stream",
     "text": [
      "/home/cadmin/anaconda3/envs/Data_Science_V2/lib/python3.11/site-packages/torch/autograd/graph.py:825: UserWarning: Attempting to run cuBLAS, but there was no current CUDA context! Attempting to set the primary context... (Triggered internally at ../aten/src/ATen/cuda/CublasHandlePool.cpp:135.)\n",
      "  return Variable._execution_engine.run_backward(  # Calls into the C++ engine to run the backward pass\n"
     ]
    },
    {
     "data": {
      "image/png": "[encoded data removed]",
      "text/plain": [
       "<Figure size 800x600 with 2 Axes>"
      ]
     },
     "metadata": {},
     "output_type": "display_data"
    }
   ],
   "source": [
    "def plot_residuals(model, x_range=(0, 1), t_range=(0, 1), num_points=100):\n",
    "    x_test = torch.linspace(x_range[0], x_range[1], num_points).view(-1, 1).to(device)\n",
    "    t_test = torch.linspace(t_range[0], t_range[1], num_points).view(-1, 1).to(device)\n",
    "\n",
    "    x_grid, t_grid = torch.meshgrid(x_test.squeeze(), t_test.squeeze(), indexing='ij')\n",
    "    x_flat, t_flat = x_grid.flatten().view(-1, 1), t_grid.flatten().view(-1, 1)\n",
    "\n",
    "    residuals = compute_pde_residual(model, x_flat, t_flat).detach().cpu().numpy().reshape(num_points, num_points)\n",
    "\n",
    "    plt.figure(figsize=(8, 6))\n",
    "    plt.contourf(x_grid.cpu().numpy(), t_grid.cpu().numpy(), np.abs(residuals), levels=50, cmap=\"viridis\")\n",
    "    plt.colorbar(label=\"Residual Magnitude\")\n",
    "    plt.xlabel(\"x\")\n",
    "    plt.ylabel(\"t\")\n",
    "    plt.title(\"PINN Residuals\")\n",
    "    plt.show()\n",
    "\n",
    "# Call the function to visualize residuals\n",
    "plot_residuals(model)"
   ]
  },
  {
   "cell_type": "code",
   "execution_count": null,
   "id": "1f10c7ff-14b8-4297-83cf-751e88782fea",
   "metadata": {},
   "outputs": [],
   "source": []
  }
 ],
 "metadata": {
  "kernelspec": {
   "display_name": "Python 3 (ipykernel)",
   "language": "python",
   "name": "python3"
  },
  "language_info": {
   "codemirror_mode": {
    "name": "ipython",
    "version": 3
   },
   "file_extension": ".py",
   "mimetype": "text/x-python",
   "name": "python",
   "nbconvert_exporter": "python",
   "pygments_lexer": "ipython3",
   "version": "3.11.10"
  }
 },
 "nbformat": 4,
 "nbformat_minor": 5
}
