{
 "cells": [
  {
   "cell_type": "code",
   "execution_count": 1,
   "id": "5ed5b982-8c24-4e7d-82a6-40d126faa105",
   "metadata": {},
   "outputs": [],
   "source": [
    "import numpy as np\n",
    "import matplotlib.pyplot as plt\n",
    "from sklearn.gaussian_process import GaussianProcessRegressor\n",
    "from sklearn.gaussian_process.kernels import RBF, ConstantKernel as C\n",
    "import torch\n",
    "import torch.nn as nn\n",
    "import torch.optim as optim"
   ]
  },
  {
   "cell_type": "code",
   "execution_count": 2,
   "id": "2e2ed6c4-6360-48f1-94cc-5b66d11d8d0c",
   "metadata": {},
   "outputs": [],
   "source": [
    "\n",
    "# Set device (use GPU if available)\n",
    "device = torch.device(\"cuda\" if torch.cuda.is_available() else \"cpu\")\n",
    "\n",
    "# Define the Berger Viscous Equation parameters\n",
    "c = 1.0    # Wave speed\n",
    "mu = 0.1   # Viscosity coefficient\n",
    "lam = 1.0  # Nonlinearity coefficient\n",
    "\n",
    "# Define the neural network\n",
    "class PINN(nn.Module):\n",
    "    def __init__(self, layers):\n",
    "        super(PINN, self).__init__()\n",
    "        self.net = nn.Sequential(*[\n",
    "            nn.Sequential(nn.Linear(layers[i], layers[i+1]), nn.Tanh())\n",
    "            for i in range(len(layers)-2)\n",
    "        ] + [nn.Linear(layers[-2], layers[-1])])\n",
    "\n",
    "    def forward(self, x, t):\n",
    "        inputs = torch.cat((x, t), dim=1)\n",
    "        return self.net(inputs)\n",
    "\n",
    "# Compute PDE residual using automatic differentiation\n",
    "def compute_pde_residual(model, x, t):\n",
    "    x = x.clone().detach().requires_grad_(True)\n",
    "    t = t.clone().detach().requires_grad_(True)\n",
    "\n",
    "    u = model(x, t)  # Predict u(x, t)\n",
    "    \n",
    "    u_t = torch.autograd.grad(u, t, torch.ones_like(u), create_graph=True, retain_graph=True)[0]\n",
    "    u_tt = torch.autograd.grad(u_t, t, torch.ones_like(u), create_graph=True, retain_graph=True)[0]\n",
    "    \n",
    "    u_x = torch.autograd.grad(u, x, torch.ones_like(u), create_graph=True, retain_graph=True)[0]\n",
    "    u_xx = torch.autograd.grad(u_x, x, torch.ones_like(u), create_graph=True, retain_graph=True)[0]\n",
    "\n",
    "    f = u_tt - c**2 * u_xx - mu * u_xx + lam * u * u_xx  # PDE residual\n",
    "    return f\n",
    "\n",
    "# Importance sampling: Generate collocation points based on residuals\n",
    "def generate_collocation_points(model, N_f, L=1.0, T=1.0):\n",
    "    x_f = torch.rand(N_f, 1, device=device, requires_grad=True) * L  # x in [0, L]\n",
    "    t_f = torch.rand(N_f, 1, device=device, requires_grad=True) * T  # t in [0, T]\n",
    "    \n",
    "    if model is not None:  # Perform importance sampling\n",
    "        residuals = compute_pde_residual(model, x_f, t_f).detach()\n",
    "        probabilities = residuals.abs() / torch.sum(residuals.abs())  # Normalize to form a probability distribution\n",
    "        sampled_indices = torch.multinomial(probabilities.view(-1), N_f, replacement=True)\n",
    "        x_f, t_f = x_f[sampled_indices], t_f[sampled_indices]\n",
    "    \n",
    "    return x_f, t_f\n",
    "\n",
    "\n",
    "# Training loop with dynamic importance sampling\n",
    "\n",
    "\n"
   ]
  },
  {
   "cell_type": "code",
   "execution_count": 3,
   "id": "9acc6c68-b24b-4315-aff1-58a870764289",
   "metadata": {},
   "outputs": [],
   "source": [
    "def fit_GP(x,t):\n",
    "    kernel = C(1.0) * RBF(length_scale=1.0)\n",
    "\n",
    "# Create the Gaussian Process Regressor\n",
    "    gp = GaussianProcessRegressor(kernel=kernel, n_restarts_optimizer=10)\n",
    "    x_0 = x.cpu().detach().numpy() \n",
    "    t_0 = t.cpu().detach().numpy()\n",
    "    gp.fit(x_0,t_0)\n",
    "    y_pred, sigma = gp.predict(x_0, return_std=True)\n",
    "    \n",
    "    most_uncertain_indices = np.argsort(-sigma)[:100]  # Sort in descending order and take top 100\n",
    "    most_uncertain_points = x_0[most_uncertain_indices]\n",
    "\n",
    "    most_uncertain_indices = torch.tensor(most_uncertain_points,device=device, requires_grad=True)\n",
    "    most_uncertain_points=torch.tensor(most_uncertain_points, device=device, requires_grad=True)\n",
    "    return most_uncertain_points,most_uncertain_indices\n",
    "    \n",
    "\n"
   ]
  },
  {
   "cell_type": "code",
   "execution_count": 4,
   "id": "63450f5c-f76f-4c03-bf8c-4778242fa25a",
   "metadata": {},
   "outputs": [],
   "source": [
    "def fit_GP(model,x,t):\n",
    "    # Evaluate residuals at collocation points\n",
    "    residuals = compute_pde_residual(model,x, t).cpu().detach().numpy()\n",
    "\n",
    "# Convert collocation points to NumPy for sklearn GP\n",
    "    collocation_np = np.hstack((x.cpu().detach().numpy(), t.cpu().detach().numpy()))\n",
    "\n",
    "# Define Gaussian Process kernel (constant term + RBF)\n",
    "    kernel = C(1.0, (1e-2, 1e2)) * RBF(length_scale=0.5, length_scale_bounds=(1e-2, 1e2))\n",
    "\n",
    "# Fit Gaussian Process to residuals\n",
    "    gp = GaussianProcessRegressor(kernel=kernel, alpha=1e-6, n_restarts_optimizer=5)\n",
    "    gp.fit(collocation_np, residuals)\n",
    "\n",
    "    print(\"GP Training Done!\")\n",
    "    return gp\n",
    "\n"
   ]
  },
  {
   "cell_type": "code",
   "execution_count": 5,
   "id": "ad8acf32-6dc0-47ee-b659-7aeb3d57b50c",
   "metadata": {},
   "outputs": [],
   "source": [
    "\n",
    "# def gen_Hi_Points(model, x, t, num_new_points=100, expand_factor=5, domain_x=(-1,1), domain_t=(0,1), device='cpu'):\n",
    "import numpy as np\n",
    "import torch\n",
    "def gen_Hi_Points(model, x, t,num_new_points=100, expand_factor=10):\n",
    "# def gen_Hi_Points(model, x, t, num_new_points=100, expand_factor=5,device='cpu'):\n",
    "    \"\"\"\n",
    "    Generates new collocation points focusing on uncertain regions.\n",
    "    \n",
    "    - `num_new_points`: Base number of new points (further expanded via `expand_factor`).\n",
    "    - `expand_factor`: Controls the number of additional sampled points around high-variance points.\n",
    "    \"\"\"\n",
    "    domain_x=(-1,1)\n",
    "    domain_t=(0,1)\n",
    "    # Fit Gaussian Process\n",
    "    gp = fit_GP(model,x,t)\n",
    "    x_dense = np.linspace(-1, 1, 50).reshape(-1, 1)\n",
    "    t_dense = np.linspace(0, 1, 50).reshape(-1, 1)\n",
    "    X, T = np.meshgrid(x_dense, t_dense)\n",
    "    dense_points = np.hstack((X.reshape(-1, 1), T.reshape(-1, 1)))\n",
    "\n",
    "    # Predict residual variance using GP\n",
    "    residual_mean, residual_std = gp.predict(dense_points, return_std=True)\n",
    "\n",
    "    # Identify high-uncertainty regions\n",
    "    high_var_indices = np.argsort(residual_std)[-100:]  # Select top 10 uncertain points\n",
    "    high_var_points = torch.tensor(dense_points[high_var_indices], dtype=torch.float32)  # Extract corresponding (x,t)\n",
    "    # new_points = torch.tensor(dense_points[high_var_indices], dtype=torch.float32)\n",
    "    # Generate additional points near high-variance locations\n",
    "    additional_points = []\n",
    "    for point in high_var_points:\n",
    "        x_c, t_c = point\n",
    "        for _ in range(expand_factor):  # Generate `expand_factor` points per high-variance point\n",
    "            new_x = np.random.normal(x_c, 0.1)  # Small perturbation in x\n",
    "            new_t = np.random.normal(t_c, 0.1)  # Small perturbation in t\n",
    "            additional_points.append([new_x, new_t])\n",
    "\n",
    "    # Convert new points to tensor\n",
    "    new_points = torch.tensor(np.array(additional_points), dtype=torch.float32).to(device)\n",
    "    x_new, t_new = new_points[:, 0].reshape(-1, 1).to(device), new_points[:, 1].reshape(-1, 1).to(device)\n",
    "\n",
    "    # Ensure points are within bounds\n",
    "    x_new = torch.clamp(x_new, min=domain_x[0], max=domain_x[1]).to(device)\n",
    "    t_new = torch.clamp(t_new, min=domain_t[0], max=domain_t[1]).to(device)\n",
    "\n",
    "    # Move to device\n",
    "    x_new, t_new = x_new.to(device), t_new.to(device)\n",
    "\n",
    "    # Merge with existing collocation points\n",
    "    # x_collocation = torch.cat([x.to(device), x_new]).to(device)\n",
    "    # t_collocation = torch.cat([t.to(device), t_new]).to(device)\n",
    "\n",
    "    print(f\"Updated Collocation Points with {len(new_points)} Additional GP-Guided Samples!\")\n",
    "    print(x_new.shape, t_new.shape, x.shape, t.shape)\n",
    "    return x_new, t_new\n",
    "\n"
   ]
  },
  {
   "cell_type": "code",
   "execution_count": 6,
   "id": "a9cdf602-acce-482a-b6cb-4c1b9a7dbe61",
   "metadata": {},
   "outputs": [],
   "source": [
    "# Define loss function\n",
    "def loss_function(model, x_f, t_f, x_bc, t_bc, u_bc):\n",
    "    f_residual = compute_pde_residual(model, x_f, t_f)\n",
    "    loss_pde = torch.mean(f_residual**2)\n",
    "\n",
    "    u_pred_bc = model(x_bc, t_bc)\n",
    "    loss_bc = torch.mean((u_pred_bc - u_bc)**2)\n",
    "\n",
    "    return loss_pde + loss_bc\n",
    "def train(model, optimizer, N_f, x_bc, t_bc, u_bc, epochs=5000, resample_every=500):\n",
    "    x_f, t_f = generate_collocation_points(model, N_f)\n",
    "    for epoch in range(epochs):\n",
    "        \n",
    "           \n",
    "        \n",
    "        optimizer.zero_grad()\n",
    "        loss = loss_function(model, x_f, t_f, x_bc, t_bc, u_bc)\n",
    "        loss.backward()\n",
    "        optimizer.step()\n",
    "\n",
    "        if epoch % 500 == 0:\n",
    "            # x_f,t_f = fit_GP(x_f,t_f)\n",
    "            print(f\"Epoch {epoch}, Loss: {loss.item()}\")\n",
    "            x_uncertain, t_uncertain = gen_Hi_Points(model,x_f, t_f) \n",
    "            x_f = x_uncertain\n",
    "            t_f = t_uncertain"
   ]
  },
  {
   "cell_type": "code",
   "execution_count": 7,
   "id": "7e8201e0-0cb8-4305-bd26-dbf2ecc27e87",
   "metadata": {},
   "outputs": [
    {
     "name": "stderr",
     "output_type": "stream",
     "text": [
      "/home/cadmin/anaconda3/envs/Data_Science_V2/lib/python3.11/site-packages/torch/autograd/graph.py:825: UserWarning: Attempting to run cuBLAS, but there was no current CUDA context! Attempting to set the primary context... (Triggered internally at ../aten/src/ATen/cuda/CublasHandlePool.cpp:135.)\n",
      "  return Variable._execution_engine.run_backward(  # Calls into the C++ engine to run the backward pass\n"
     ]
    },
    {
     "name": "stdout",
     "output_type": "stream",
     "text": [
      "Epoch 0, Loss: 0.5544387698173523\n"
     ]
    },
    {
     "name": "stderr",
     "output_type": "stream",
     "text": [
      "/home/cadmin/anaconda3/envs/Data_Science_V2/lib/python3.11/site-packages/sklearn/gaussian_process/kernels.py:442: ConvergenceWarning: The optimal value found for dimension 0 of parameter k1__constant_value is close to the specified lower bound 0.01. Decreasing the bound and calling fit again may find a better value.\n",
      "  warnings.warn(\n"
     ]
    },
    {
     "name": "stdout",
     "output_type": "stream",
     "text": [
      "GP Training Done!\n",
      "Updated Collocation Points with 1000 Additional GP-Guided Samples!\n",
      "torch.Size([1000, 1]) torch.Size([1000, 1]) torch.Size([1000, 1]) torch.Size([1000, 1])\n",
      "Epoch 500, Loss: 0.0003633145825006068\n",
      "GP Training Done!\n",
      "Updated Collocation Points with 1000 Additional GP-Guided Samples!\n",
      "torch.Size([1000, 1]) torch.Size([1000, 1]) torch.Size([1000, 1]) torch.Size([1000, 1])\n",
      "Epoch 1000, Loss: 0.011682773008942604\n",
      "GP Training Done!\n",
      "Updated Collocation Points with 1000 Additional GP-Guided Samples!\n",
      "torch.Size([1000, 1]) torch.Size([1000, 1]) torch.Size([1000, 1]) torch.Size([1000, 1])\n",
      "Epoch 1500, Loss: 0.0025298167020082474\n",
      "GP Training Done!\n",
      "Updated Collocation Points with 1000 Additional GP-Guided Samples!\n",
      "torch.Size([1000, 1]) torch.Size([1000, 1]) torch.Size([1000, 1]) torch.Size([1000, 1])\n",
      "Epoch 2000, Loss: 0.0030309376306831837\n",
      "GP Training Done!\n",
      "Updated Collocation Points with 1000 Additional GP-Guided Samples!\n",
      "torch.Size([1000, 1]) torch.Size([1000, 1]) torch.Size([1000, 1]) torch.Size([1000, 1])\n",
      "Epoch 2500, Loss: 0.0003353515639901161\n",
      "GP Training Done!\n",
      "Updated Collocation Points with 1000 Additional GP-Guided Samples!\n",
      "torch.Size([1000, 1]) torch.Size([1000, 1]) torch.Size([1000, 1]) torch.Size([1000, 1])\n",
      "Epoch 3000, Loss: 0.0006479584844782948\n"
     ]
    },
    {
     "name": "stderr",
     "output_type": "stream",
     "text": [
      "/home/cadmin/anaconda3/envs/Data_Science_V2/lib/python3.11/site-packages/sklearn/gaussian_process/kernels.py:452: ConvergenceWarning: The optimal value found for dimension 0 of parameter k1__constant_value is close to the specified upper bound 100.0. Increasing the bound and calling fit again may find a better value.\n",
      "  warnings.warn(\n"
     ]
    },
    {
     "name": "stdout",
     "output_type": "stream",
     "text": [
      "GP Training Done!\n",
      "Updated Collocation Points with 1000 Additional GP-Guided Samples!\n",
      "torch.Size([1000, 1]) torch.Size([1000, 1]) torch.Size([1000, 1]) torch.Size([1000, 1])\n",
      "Epoch 3500, Loss: 9.653441520640627e-05\n",
      "GP Training Done!\n",
      "Updated Collocation Points with 1000 Additional GP-Guided Samples!\n",
      "torch.Size([1000, 1]) torch.Size([1000, 1]) torch.Size([1000, 1]) torch.Size([1000, 1])\n",
      "Epoch 4000, Loss: 0.000396242190618068\n"
     ]
    },
    {
     "name": "stderr",
     "output_type": "stream",
     "text": [
      "/home/cadmin/anaconda3/envs/Data_Science_V2/lib/python3.11/site-packages/sklearn/gaussian_process/_gpr.py:660: ConvergenceWarning: lbfgs failed to converge (status=2):\n",
      "ABNORMAL: .\n",
      "\n",
      "Increase the number of iterations (max_iter) or scale the data as shown in:\n",
      "    https://scikit-learn.org/stable/modules/preprocessing.html\n",
      "  _check_optimize_result(\"lbfgs\", opt_res)\n",
      "/home/cadmin/anaconda3/envs/Data_Science_V2/lib/python3.11/site-packages/sklearn/gaussian_process/kernels.py:452: ConvergenceWarning: The optimal value found for dimension 0 of parameter k1__constant_value is close to the specified upper bound 100.0. Increasing the bound and calling fit again may find a better value.\n",
      "  warnings.warn(\n"
     ]
    },
    {
     "name": "stdout",
     "output_type": "stream",
     "text": [
      "GP Training Done!\n",
      "Updated Collocation Points with 1000 Additional GP-Guided Samples!\n",
      "torch.Size([1000, 1]) torch.Size([1000, 1]) torch.Size([1000, 1]) torch.Size([1000, 1])\n",
      "Epoch 4500, Loss: 7.553273462690413e-05\n",
      "GP Training Done!\n",
      "Updated Collocation Points with 1000 Additional GP-Guided Samples!\n",
      "torch.Size([1000, 1]) torch.Size([1000, 1]) torch.Size([1000, 1]) torch.Size([1000, 1])\n",
      "Epoch 5000, Loss: 0.0002579287101980299\n",
      "GP Training Done!\n",
      "Updated Collocation Points with 1000 Additional GP-Guided Samples!\n",
      "torch.Size([1000, 1]) torch.Size([1000, 1]) torch.Size([1000, 1]) torch.Size([1000, 1])\n",
      "Epoch 5500, Loss: 4.777734284289181e-05\n",
      "GP Training Done!\n",
      "Updated Collocation Points with 1000 Additional GP-Guided Samples!\n",
      "torch.Size([1000, 1]) torch.Size([1000, 1]) torch.Size([1000, 1]) torch.Size([1000, 1])\n",
      "Epoch 6000, Loss: 0.0002408598957117647\n"
     ]
    },
    {
     "name": "stderr",
     "output_type": "stream",
     "text": [
      "/home/cadmin/anaconda3/envs/Data_Science_V2/lib/python3.11/site-packages/sklearn/gaussian_process/_gpr.py:660: ConvergenceWarning: lbfgs failed to converge (status=2):\n",
      "ABNORMAL: .\n",
      "\n",
      "Increase the number of iterations (max_iter) or scale the data as shown in:\n",
      "    https://scikit-learn.org/stable/modules/preprocessing.html\n",
      "  _check_optimize_result(\"lbfgs\", opt_res)\n",
      "/home/cadmin/anaconda3/envs/Data_Science_V2/lib/python3.11/site-packages/sklearn/gaussian_process/kernels.py:452: ConvergenceWarning: The optimal value found for dimension 0 of parameter k1__constant_value is close to the specified upper bound 100.0. Increasing the bound and calling fit again may find a better value.\n",
      "  warnings.warn(\n"
     ]
    },
    {
     "name": "stdout",
     "output_type": "stream",
     "text": [
      "GP Training Done!\n",
      "Updated Collocation Points with 1000 Additional GP-Guided Samples!\n",
      "torch.Size([1000, 1]) torch.Size([1000, 1]) torch.Size([1000, 1]) torch.Size([1000, 1])\n",
      "Epoch 6500, Loss: 3.8964666600804776e-05\n",
      "GP Training Done!\n",
      "Updated Collocation Points with 1000 Additional GP-Guided Samples!\n",
      "torch.Size([1000, 1]) torch.Size([1000, 1]) torch.Size([1000, 1]) torch.Size([1000, 1])\n",
      "Epoch 7000, Loss: 0.00012502014578785747\n",
      "GP Training Done!\n",
      "Updated Collocation Points with 1000 Additional GP-Guided Samples!\n",
      "torch.Size([1000, 1]) torch.Size([1000, 1]) torch.Size([1000, 1]) torch.Size([1000, 1])\n",
      "Epoch 7500, Loss: 3.131825724267401e-05\n",
      "GP Training Done!\n",
      "Updated Collocation Points with 1000 Additional GP-Guided Samples!\n",
      "torch.Size([1000, 1]) torch.Size([1000, 1]) torch.Size([1000, 1]) torch.Size([1000, 1])\n",
      "Epoch 8000, Loss: 0.00021795748034492135\n"
     ]
    },
    {
     "name": "stderr",
     "output_type": "stream",
     "text": [
      "/home/cadmin/anaconda3/envs/Data_Science_V2/lib/python3.11/site-packages/sklearn/gaussian_process/kernels.py:452: ConvergenceWarning: The optimal value found for dimension 0 of parameter k1__constant_value is close to the specified upper bound 100.0. Increasing the bound and calling fit again may find a better value.\n",
      "  warnings.warn(\n"
     ]
    },
    {
     "name": "stdout",
     "output_type": "stream",
     "text": [
      "GP Training Done!\n",
      "Updated Collocation Points with 1000 Additional GP-Guided Samples!\n",
      "torch.Size([1000, 1]) torch.Size([1000, 1]) torch.Size([1000, 1]) torch.Size([1000, 1])\n",
      "Epoch 8500, Loss: 2.03931540454505e-05\n",
      "GP Training Done!\n",
      "Updated Collocation Points with 1000 Additional GP-Guided Samples!\n",
      "torch.Size([1000, 1]) torch.Size([1000, 1]) torch.Size([1000, 1]) torch.Size([1000, 1])\n",
      "Epoch 9000, Loss: 0.00031067460076883435\n",
      "GP Training Done!\n",
      "Updated Collocation Points with 1000 Additional GP-Guided Samples!\n",
      "torch.Size([1000, 1]) torch.Size([1000, 1]) torch.Size([1000, 1]) torch.Size([1000, 1])\n",
      "Epoch 9500, Loss: 3.5777797165792435e-05\n",
      "GP Training Done!\n",
      "Updated Collocation Points with 1000 Additional GP-Guided Samples!\n",
      "torch.Size([1000, 1]) torch.Size([1000, 1]) torch.Size([1000, 1]) torch.Size([1000, 1])\n"
     ]
    }
   ],
   "source": [
    "# Define PINN model architecture\n",
    "layers = [2, 50, 50, 50, 1]  # Input (x,t) -> Hidden layers -> Output (u)\n",
    "model = PINN(layers).to(device)\n",
    "\n",
    "# Define boundary and initial conditions\n",
    "N_f = 1000  # Collocation points\n",
    "L, T = 1.0, 1.0  # Spatial and time limits\n",
    "\n",
    "x_f, t_f = generate_collocation_points(None, N_f, L, T)  # Initial uniform sampling\n",
    "\n",
    "# Boundary conditions (u(x, 0) = sin(pi x), u(0, t) = 0, u(L, t) = 0)\n",
    "N_bc = 100\n",
    "x_bc = torch.linspace(0, L, N_bc).view(-1, 1).to(device)\n",
    "t_bc = torch.zeros_like(x_bc).to(device)\n",
    "u_bc = torch.sin(np.pi * x_bc.cpu()).to(device)  # Initial condition\n",
    "\n",
    "# Train the model with importance sampling\n",
    "optimizer = optim.Adam(model.parameters(), lr=1e-3)\n",
    "train(model, optimizer, N_f, x_bc, t_bc, u_bc, epochs=10000, resample_every=100)\n",
    "\n",
    "# Visualize results\n",
    "x_test = torch.linspace(0, L, 100).view(-1, 1).to(device)\n",
    "t_test = torch.linspace(0, T, 100).view(-1, 1).to(device)\n",
    "\n",
    "x_grid, t_grid = torch.meshgrid(x_test.squeeze(), t_test.squeeze(), indexing='ij')\n",
    "x_flat, t_flat = x_grid.flatten().view(-1, 1), t_grid.flatten().view(-1, 1)\n",
    "\n",
    "u_pred = model(x_flat, t_flat).detach().cpu().numpy().reshape(100, 100)"
   ]
  },
  {
   "cell_type": "code",
   "execution_count": 8,
   "id": "1b907c5c-d2b4-481f-a771-7cf1aa925e29",
   "metadata": {},
   "outputs": [
    {
     "data": {
      "text/plain": [
       "54.81053161621094"
      ]
     },
     "execution_count": 8,
     "metadata": {},
     "output_type": "execute_result"
    }
   ],
   "source": [
    "#Loss on general function\n",
    "x_f, t_f = generate_collocation_points(model, 1000,L,T)\n",
    "x_bc = torch.linspace(0, L, N_bc).view(-1, 1).to(device)\n",
    "t_bc = torch.zeros_like(x_bc).to(device)\n",
    "u_bc = torch.sin(np.pi * x_bc.cpu()).to(device)\n",
    "\n",
    "loss_function(model, x_f, t_f, x_bc, t_bc, u_bc).item()"
   ]
  },
  {
   "cell_type": "code",
   "execution_count": null,
   "id": "7830c0bd-854c-4f9b-8ee9-b6e96399ca2f",
   "metadata": {},
   "outputs": [],
   "source": []
  },
  {
   "cell_type": "code",
   "execution_count": 9,
   "id": "43e2e6cd-5abf-4c33-af93-21e34a7a0783",
   "metadata": {},
   "outputs": [
    {
     "data": {
      "image/png": "[encoded data removed]",
      "text/plain": [
       "<Figure size 800x600 with 2 Axes>"
      ]
     },
     "metadata": {},
     "output_type": "display_data"
    }
   ],
   "source": [
    "def plot_residuals(model, x_range=(0, 1), t_range=(0, 1), num_points=100):\n",
    "    x_test = torch.linspace(x_range[0], x_range[1], num_points).view(-1, 1).to(device)\n",
    "    t_test = torch.linspace(t_range[0], t_range[1], num_points).view(-1, 1).to(device)\n",
    "\n",
    "    x_grid, t_grid = torch.meshgrid(x_test.squeeze(), t_test.squeeze(), indexing='ij')\n",
    "    x_flat, t_flat = x_grid.flatten().view(-1, 1), t_grid.flatten().view(-1, 1)\n",
    "\n",
    "    residuals = compute_pde_residual(model, x_flat, t_flat).detach().cpu().numpy().reshape(num_points, num_points)\n",
    "\n",
    "    plt.figure(figsize=(8, 6))\n",
    "    plt.contourf(x_grid.cpu().numpy(), t_grid.cpu().numpy(), np.abs(residuals), levels=50, cmap=\"viridis\")\n",
    "    plt.colorbar(label=\"Residual Magnitude\")\n",
    "    plt.xlabel(\"x\")\n",
    "    plt.ylabel(\"t\")\n",
    "    plt.title(\"PINN Residuals\")\n",
    "    plt.show()\n",
    "\n",
    "# Call the function to visualize residuals\n",
    "plot_residuals(model)"
   ]
  },
  {
   "cell_type": "code",
   "execution_count": null,
   "id": "55f76002-9538-4623-8441-b8e566c6c9b7",
   "metadata": {},
   "outputs": [],
   "source": []
  }
 ],
 "metadata": {
  "kernelspec": {
   "display_name": "Python 3 (ipykernel)",
   "language": "python",
   "name": "python3"
  },
  "language_info": {
   "codemirror_mode": {
    "name": "ipython",
    "version": 3
   },
   "file_extension": ".py",
   "mimetype": "text/x-python",
   "name": "python",
   "nbconvert_exporter": "python",
   "pygments_lexer": "ipython3",
   "version": "3.11.10"
  }
 },
 "nbformat": 4,
 "nbformat_minor": 5
}
